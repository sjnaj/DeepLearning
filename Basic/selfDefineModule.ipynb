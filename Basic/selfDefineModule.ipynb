{
  "nbformat": 4,
  "nbformat_minor": 0,
  "metadata": {
    "colab": {
      "name": "selfDefineModule.ipynb",
      "provenance": [],
      "authorship_tag": "ABX9TyNMPpnUiUmRIR39+1QfxWcv",
      "include_colab_link": true
    },
    "kernelspec": {
      "name": "python3",
      "display_name": "Python 3"
    },
    "language_info": {
      "name": "python"
    }
  },
  "cells": [
    {
      "cell_type": "markdown",
      "metadata": {
        "id": "view-in-github",
        "colab_type": "text"
      },
      "source": [
        "<a href=\"https://colab.research.google.com/github/sjnaj/DeepLearning/blob/master/Basic/selfDefineModule.ipynb\" target=\"_parent\"><img src=\"https://colab.research.google.com/assets/colab-badge.svg\" alt=\"Open In Colab\"/></a>"
      ]
    },
    {
      "cell_type": "code",
      "execution_count": 19,
      "metadata": {
        "id": "IGVxagnaxx3J"
      },
      "outputs": [],
      "source": [
        "import torch\n",
        "from torch import nn\n",
        "import torch.nn.functional as F\n",
        "\n",
        "class MyLinear(nn.Module):\n",
        "  def __init__(self,in_units,units):\n",
        "    super().__init__()\n",
        "    self.weight=nn.Parameter(torch.randn(in_units,units))\n",
        "    self.bias=nn.Parameter(torch.randn(units,))#0可以省略，逗号不能省\n",
        "  def forward(self,X):\n",
        "    return F.relu(torch.matmul(X,self.weight)+self.bias)#函数版本relu\n",
        "\n"
      ]
    },
    {
      "cell_type": "code",
      "source": [
        "linear = MyLinear(5, 3)\n",
        "linear.weight\n"
      ],
      "metadata": {
        "colab": {
          "base_uri": "https://localhost:8080/"
        },
        "id": "d9oazRrZ5iv9",
        "outputId": "e47a62cc-e6c7-433c-8a56-199afdff0550"
      },
      "execution_count": 23,
      "outputs": [
        {
          "output_type": "execute_result",
          "data": {
            "text/plain": [
              "Parameter containing:\n",
              "tensor([[-0.1387, -0.7269, -0.4039],\n",
              "        [ 0.5807, -0.6057, -0.1172],\n",
              "        [-0.5251, -1.8119, -0.6090],\n",
              "        [-0.6054, -1.4085, -1.4250],\n",
              "        [ 0.3069, -0.2543, -1.7292]], requires_grad=True)"
            ]
          },
          "metadata": {},
          "execution_count": 23
        }
      ]
    },
    {
      "cell_type": "code",
      "source": [
        "net = nn.Sequential(MyLinear(64, 8), MyLinear(8, 1))\n",
        "net(torch.rand(2, 64))"
      ],
      "metadata": {
        "colab": {
          "base_uri": "https://localhost:8080/"
        },
        "id": "EmTkIC_Z6GNN",
        "outputId": "bd715db5-ba51-4220-cbb1-924c2de515a7"
      },
      "execution_count": 24,
      "outputs": [
        {
          "output_type": "execute_result",
          "data": {
            "text/plain": [
              "tensor([[0.],\n",
              "        [0.]], grad_fn=<ReluBackward0>)"
            ]
          },
          "metadata": {},
          "execution_count": 24
        }
      ]
    }
  ]
}